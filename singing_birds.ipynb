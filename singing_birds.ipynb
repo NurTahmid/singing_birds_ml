{
 "cells": [
  {
   "cell_type": "code",
   "execution_count": 1,
   "metadata": {},
   "outputs": [],
   "source": [
    "import matplotlib.pyplot as plt\n",
    "import numpy as np\n",
    "import os\n",
    "import PIL\n",
    "import tensorflow as tf\n",
    "from tensorflow import keras\n",
    "from tensorflow.keras import layers\n",
    "from tensorflow.keras.models import Sequential\n",
    "from tensorflow.keras.\n"
   ]
  },
  {
   "cell_type": "code",
   "execution_count": 8,
   "metadata": {},
   "outputs": [
    {
     "ename": "NotFoundError",
     "evalue": "Could not find directory jupyter/singing_birds",
     "output_type": "error",
     "traceback": [
      "\u001b[0;31m---------------------------------------------------------------------------\u001b[0m",
      "\u001b[0;31mNotFoundError\u001b[0m                             Traceback (most recent call last)",
      "\u001b[1;32m/home/tahmid/Documents/Projects/miniconda3/envs/jupyter/singin_birds.ipynb Cell 2'\u001b[0m in \u001b[0;36m<cell line: 3>\u001b[0;34m()\u001b[0m\n\u001b[1;32m      <a href='vscode-notebook-cell:/home/tahmid/Documents/Projects/miniconda3/envs/jupyter/singin_birds.ipynb#ch0000001?line=0'>1</a>\u001b[0m \u001b[39mimport\u001b[39;00m \u001b[39mpathlib\u001b[39;00m\n\u001b[1;32m      <a href='vscode-notebook-cell:/home/tahmid/Documents/Projects/miniconda3/envs/jupyter/singin_birds.ipynb#ch0000001?line=1'>2</a>\u001b[0m dataset_dir \u001b[39m=\u001b[39m pathlib\u001b[39m.\u001b[39mPath(\u001b[39m\"\u001b[39m\u001b[39mjupyter/singing_birds\u001b[39m\u001b[39m\"\u001b[39m)\n\u001b[0;32m----> <a href='vscode-notebook-cell:/home/tahmid/Documents/Projects/miniconda3/envs/jupyter/singin_birds.ipynb#ch0000001?line=2'>3</a>\u001b[0m dataset_birds \u001b[39m=\u001b[39m tf\u001b[39m.\u001b[39;49mkeras\u001b[39m.\u001b[39;49mpreprocessing\u001b[39m.\u001b[39;49mimage_dataset_from_directory(dataset_dir,\n\u001b[1;32m      <a href='vscode-notebook-cell:/home/tahmid/Documents/Projects/miniconda3/envs/jupyter/singin_birds.ipynb#ch0000001?line=3'>4</a>\u001b[0m     label_mode\u001b[39m=\u001b[39;49m\u001b[39m\"\u001b[39;49m\u001b[39mint\u001b[39;49m\u001b[39m\"\u001b[39;49m,\n\u001b[1;32m      <a href='vscode-notebook-cell:/home/tahmid/Documents/Projects/miniconda3/envs/jupyter/singin_birds.ipynb#ch0000001?line=4'>5</a>\u001b[0m     class_names\u001b[39m=\u001b[39;49m\u001b[39mNone\u001b[39;49;00m,\n\u001b[1;32m      <a href='vscode-notebook-cell:/home/tahmid/Documents/Projects/miniconda3/envs/jupyter/singin_birds.ipynb#ch0000001?line=5'>6</a>\u001b[0m     color_mode\u001b[39m=\u001b[39;49m\u001b[39m\"\u001b[39;49m\u001b[39mrgb\u001b[39;49m\u001b[39m\"\u001b[39;49m,\n\u001b[1;32m      <a href='vscode-notebook-cell:/home/tahmid/Documents/Projects/miniconda3/envs/jupyter/singin_birds.ipynb#ch0000001?line=6'>7</a>\u001b[0m     batch_size\u001b[39m=\u001b[39;49m\u001b[39m64\u001b[39;49m,\n\u001b[1;32m      <a href='vscode-notebook-cell:/home/tahmid/Documents/Projects/miniconda3/envs/jupyter/singin_birds.ipynb#ch0000001?line=7'>8</a>\u001b[0m     image_size\u001b[39m=\u001b[39;49m(\u001b[39m256\u001b[39;49m, \u001b[39m256\u001b[39;49m),\n\u001b[1;32m      <a href='vscode-notebook-cell:/home/tahmid/Documents/Projects/miniconda3/envs/jupyter/singin_birds.ipynb#ch0000001?line=8'>9</a>\u001b[0m     shuffle\u001b[39m=\u001b[39;49m\u001b[39mTrue\u001b[39;49;00m,\n\u001b[1;32m     <a href='vscode-notebook-cell:/home/tahmid/Documents/Projects/miniconda3/envs/jupyter/singin_birds.ipynb#ch0000001?line=9'>10</a>\u001b[0m     seed\u001b[39m=\u001b[39;49m\u001b[39mNone\u001b[39;49;00m,\n\u001b[1;32m     <a href='vscode-notebook-cell:/home/tahmid/Documents/Projects/miniconda3/envs/jupyter/singin_birds.ipynb#ch0000001?line=10'>11</a>\u001b[0m     validation_split\u001b[39m=\u001b[39;49m\u001b[39mNone\u001b[39;49;00m,\n\u001b[1;32m     <a href='vscode-notebook-cell:/home/tahmid/Documents/Projects/miniconda3/envs/jupyter/singin_birds.ipynb#ch0000001?line=11'>12</a>\u001b[0m     subset\u001b[39m=\u001b[39;49m\u001b[39mNone\u001b[39;49;00m,\n\u001b[1;32m     <a href='vscode-notebook-cell:/home/tahmid/Documents/Projects/miniconda3/envs/jupyter/singin_birds.ipynb#ch0000001?line=12'>13</a>\u001b[0m     interpolation\u001b[39m=\u001b[39;49m\u001b[39m\"\u001b[39;49m\u001b[39mbilinear\u001b[39;49m\u001b[39m\"\u001b[39;49m,\n\u001b[1;32m     <a href='vscode-notebook-cell:/home/tahmid/Documents/Projects/miniconda3/envs/jupyter/singin_birds.ipynb#ch0000001?line=13'>14</a>\u001b[0m     follow_links\u001b[39m=\u001b[39;49m\u001b[39mFalse\u001b[39;49;00m,\n\u001b[1;32m     <a href='vscode-notebook-cell:/home/tahmid/Documents/Projects/miniconda3/envs/jupyter/singin_birds.ipynb#ch0000001?line=14'>15</a>\u001b[0m     crop_to_aspect_ratio\u001b[39m=\u001b[39;49m\u001b[39mFalse\u001b[39;49;00m)\n",
      "File \u001b[0;32m~/Documents/Projects/miniconda3/envs/jupyter/lib/python3.10/site-packages/keras/utils/image_dataset.py:192\u001b[0m, in \u001b[0;36mimage_dataset_from_directory\u001b[0;34m(directory, labels, label_mode, class_names, color_mode, batch_size, image_size, shuffle, seed, validation_split, subset, interpolation, follow_links, crop_to_aspect_ratio, **kwargs)\u001b[0m\n\u001b[1;32m    190\u001b[0m \u001b[39mif\u001b[39;00m seed \u001b[39mis\u001b[39;00m \u001b[39mNone\u001b[39;00m:\n\u001b[1;32m    191\u001b[0m   seed \u001b[39m=\u001b[39m np\u001b[39m.\u001b[39mrandom\u001b[39m.\u001b[39mrandint(\u001b[39m1e6\u001b[39m)\n\u001b[0;32m--> 192\u001b[0m image_paths, labels, class_names \u001b[39m=\u001b[39m dataset_utils\u001b[39m.\u001b[39;49mindex_directory(\n\u001b[1;32m    193\u001b[0m     directory,\n\u001b[1;32m    194\u001b[0m     labels,\n\u001b[1;32m    195\u001b[0m     formats\u001b[39m=\u001b[39;49mALLOWLIST_FORMATS,\n\u001b[1;32m    196\u001b[0m     class_names\u001b[39m=\u001b[39;49mclass_names,\n\u001b[1;32m    197\u001b[0m     shuffle\u001b[39m=\u001b[39;49mshuffle,\n\u001b[1;32m    198\u001b[0m     seed\u001b[39m=\u001b[39;49mseed,\n\u001b[1;32m    199\u001b[0m     follow_links\u001b[39m=\u001b[39;49mfollow_links)\n\u001b[1;32m    201\u001b[0m \u001b[39mif\u001b[39;00m label_mode \u001b[39m==\u001b[39m \u001b[39m'\u001b[39m\u001b[39mbinary\u001b[39m\u001b[39m'\u001b[39m \u001b[39mand\u001b[39;00m \u001b[39mlen\u001b[39m(class_names) \u001b[39m!=\u001b[39m \u001b[39m2\u001b[39m:\n\u001b[1;32m    202\u001b[0m   \u001b[39mraise\u001b[39;00m \u001b[39mValueError\u001b[39;00m(\n\u001b[1;32m    203\u001b[0m       \u001b[39mf\u001b[39m\u001b[39m'\u001b[39m\u001b[39mWhen passing `label_mode=\u001b[39m\u001b[39m\"\u001b[39m\u001b[39mbinary\u001b[39m\u001b[39m\"\u001b[39m\u001b[39m`, there must be exactly 2 \u001b[39m\u001b[39m'\u001b[39m\n\u001b[1;32m    204\u001b[0m       \u001b[39mf\u001b[39m\u001b[39m'\u001b[39m\u001b[39mclass_names. Received: class_names=\u001b[39m\u001b[39m{\u001b[39;00mclass_names\u001b[39m}\u001b[39;00m\u001b[39m'\u001b[39m)\n",
      "File \u001b[0;32m~/Documents/Projects/miniconda3/envs/jupyter/lib/python3.10/site-packages/keras/utils/dataset_utils.py:66\u001b[0m, in \u001b[0;36mindex_directory\u001b[0;34m(directory, labels, formats, class_names, shuffle, seed, follow_links)\u001b[0m\n\u001b[1;32m     64\u001b[0m \u001b[39melse\u001b[39;00m:\n\u001b[1;32m     65\u001b[0m   subdirs \u001b[39m=\u001b[39m []\n\u001b[0;32m---> 66\u001b[0m   \u001b[39mfor\u001b[39;00m subdir \u001b[39min\u001b[39;00m \u001b[39msorted\u001b[39m(tf\u001b[39m.\u001b[39;49mio\u001b[39m.\u001b[39;49mgfile\u001b[39m.\u001b[39;49mlistdir(directory)):\n\u001b[1;32m     67\u001b[0m     \u001b[39mif\u001b[39;00m tf\u001b[39m.\u001b[39mio\u001b[39m.\u001b[39mgfile\u001b[39m.\u001b[39misdir(tf\u001b[39m.\u001b[39mio\u001b[39m.\u001b[39mgfile\u001b[39m.\u001b[39mjoin(directory, subdir)):\n\u001b[1;32m     68\u001b[0m       \u001b[39mif\u001b[39;00m subdir\u001b[39m.\u001b[39mendswith(\u001b[39m'\u001b[39m\u001b[39m/\u001b[39m\u001b[39m'\u001b[39m):\n",
      "File \u001b[0;32m~/Documents/Projects/miniconda3/envs/jupyter/lib/python3.10/site-packages/tensorflow/python/lib/io/file_io.py:766\u001b[0m, in \u001b[0;36mlist_directory_v2\u001b[0;34m(path)\u001b[0m\n\u001b[1;32m    751\u001b[0m \u001b[39m\"\"\"Returns a list of entries contained within a directory.\u001b[39;00m\n\u001b[1;32m    752\u001b[0m \n\u001b[1;32m    753\u001b[0m \u001b[39mThe list is in arbitrary order. It does not contain the special entries \".\"\u001b[39;00m\n\u001b[0;32m   (...)\u001b[0m\n\u001b[1;32m    763\u001b[0m \u001b[39m  errors.NotFoundError if directory doesn't exist\u001b[39;00m\n\u001b[1;32m    764\u001b[0m \u001b[39m\"\"\"\u001b[39;00m\n\u001b[1;32m    765\u001b[0m \u001b[39mif\u001b[39;00m \u001b[39mnot\u001b[39;00m is_directory(path):\n\u001b[0;32m--> 766\u001b[0m   \u001b[39mraise\u001b[39;00m errors\u001b[39m.\u001b[39mNotFoundError(\n\u001b[1;32m    767\u001b[0m       node_def\u001b[39m=\u001b[39m\u001b[39mNone\u001b[39;00m,\n\u001b[1;32m    768\u001b[0m       op\u001b[39m=\u001b[39m\u001b[39mNone\u001b[39;00m,\n\u001b[1;32m    769\u001b[0m       message\u001b[39m=\u001b[39m\u001b[39m\"\u001b[39m\u001b[39mCould not find directory \u001b[39m\u001b[39m{}\u001b[39;00m\u001b[39m\"\u001b[39m\u001b[39m.\u001b[39mformat(path))\n\u001b[1;32m    771\u001b[0m \u001b[39m# Convert each element to string, since the return values of the\u001b[39;00m\n\u001b[1;32m    772\u001b[0m \u001b[39m# vector of string should be interpreted as strings, not bytes.\u001b[39;00m\n\u001b[1;32m    773\u001b[0m \u001b[39mreturn\u001b[39;00m [\n\u001b[1;32m    774\u001b[0m     compat\u001b[39m.\u001b[39mas_str_any(filename)\n\u001b[1;32m    775\u001b[0m     \u001b[39mfor\u001b[39;00m filename \u001b[39min\u001b[39;00m _pywrap_file_io\u001b[39m.\u001b[39mGetChildren(compat\u001b[39m.\u001b[39mpath_to_bytes(path))\n\u001b[1;32m    776\u001b[0m ]\n",
      "\u001b[0;31mNotFoundError\u001b[0m: Could not find directory jupyter/singing_birds"
     ]
    }
   ],
   "source": [
    "import pathlib\n",
    "dataset_dir = pathlib.Path(\"/jupyter/singing_birds\")\n",
    "dataset_birds = tf.keras.preprocessing.image_dataset_from_directory(dataset_dir,\n",
    "    label_mode=\"int\",\n",
    "    class_names=None,\n",
    "    color_mode=\"rgb\",\n",
    "    batch_size=64,\n",
    "    image_size=(256, 256),\n",
    "    shuffle=True,\n",
    "    seed=None,\n",
    "    validation_split=None,\n",
    "    subset=None,\n",
    "    interpolation=\"bilinear\",\n",
    "    follow_links=False,\n",
    "    crop_to_aspect_ratio=False)\n",
    "\n",
    "\n"
   ]
  }
 ],
 "metadata": {
  "kernelspec": {
   "display_name": "Python 3.10.4 64-bit",
   "language": "python",
   "name": "python3"
  },
  "language_info": {
   "codemirror_mode": {
    "name": "ipython",
    "version": 3
   },
   "file_extension": ".py",
   "mimetype": "text/x-python",
   "name": "python",
   "nbconvert_exporter": "python",
   "pygments_lexer": "ipython3",
   "version": "3.10.4"
  },
  "orig_nbformat": 4,
  "vscode": {
   "interpreter": {
    "hash": "e7370f93d1d0cde622a1f8e1c04877d8463912d04d973331ad4851f04de6915a"
   }
  }
 },
 "nbformat": 4,
 "nbformat_minor": 2
}
