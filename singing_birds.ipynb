{
 "cells": [
  {
   "cell_type": "code",
   "execution_count": 114,
   "metadata": {},
   "outputs": [],
   "source": [
    "import matplotlib.pyplot as plt\n",
    "import numpy as np\n",
    "import os\n",
    "import PIL\n",
    "import tensorflow as tf\n",
    "from tensorflow import keras\n",
    "from tensorflow.keras import layers\n",
    "from tensorflow.keras.models import Sequential"
   ]
  },
  {
   "cell_type": "code",
   "execution_count": 115,
   "metadata": {},
   "outputs": [],
   "source": [
    "data_dir = \"/home/tahmid/Documents/Datasets/copy_birds/\"\n",
    "batch_size = 32\n",
    "img_height = 180\n",
    "img_width = 180\n",
    "#categories = [\"Canary\",\"Nightingale\",\"Nothern Mockingbird\",\"Robin\",\"Tanager\"]"
   ]
  },
  {
   "cell_type": "code",
   "execution_count": 116,
   "metadata": {},
   "outputs": [],
   "source": [
    "#algorith \n",
    "data_dir = \"/home/tahmid/Documents/Datasets/singing_birds/\"\n",
    "new_data_dir = \"/home/tahmid/Documents/Datasets/copy_birds/\"\n",
    "\n",
    "old_file = \"/home/tahmid/Documents/Datasets/singing_birds/Nothern Mockingbird\"\n",
    "i = 0\n",
    "for filename in os.listdir(data_dir):\n",
    "    f = os.path.join(data_dir, filename)\n",
    "    print(f)\n",
    "    for image_name in os.listdir(f):\n",
    "        c = os.path.join(f, image_name)\n",
    "        if os.path.isfile(c):\n",
    "            if f != old_file:\n",
    "                i = 0\n",
    "                old_file = f\n",
    "            else:\n",
    "                im = Image.open(c)\n",
    "                rgb_im = im.convert(\"RGB\")\n",
    "                g = os.path.join(new_data_dir, filename)\n",
    "                final_path = os.path.join(g, str(i)+'.jpeg')\n",
    "                i += 1\n",
    "                print(final_path)\n",
    "                rgb_im.save(final_path, \"JPEG\")"
   ]
  }
 ],
 "metadata": {
  "kernelspec": {
   "display_name": "Python 3 (ipykernel)",
   "language": "python",
   "name": "python3"
  },
  "language_info": {
   "codemirror_mode": {
    "name": "ipython",
    "version": 3
   },
   "file_extension": ".py",
   "mimetype": "text/x-python",
   "name": "python",
   "nbconvert_exporter": "python",
   "pygments_lexer": "ipython3",
   "version": "3.10.4"
  },
  "vscode": {
   "interpreter": {
    "hash": "e7370f93d1d0cde622a1f8e1c04877d8463912d04d973331ad4851f04de6915a"
   }
  }
 },
 "nbformat": 4,
 "nbformat_minor": 2
}
